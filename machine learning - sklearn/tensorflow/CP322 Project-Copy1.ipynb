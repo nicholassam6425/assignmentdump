{
 "cells": [
  {
   "cell_type": "code",
   "execution_count": 1,
   "id": "31c31c22-82a3-43ac-9d6b-176044de94cd",
   "metadata": {},
   "outputs": [],
   "source": [
    "import pandas as pd\n",
    "import seaborn as sns\n",
    "import matplotlib.pyplot as plt\n",
    "import numpy as np\n",
    "import nltk\n",
    "from nltk.sentiment.util import *\n",
    "from nltk.sentiment import SentimentAnalyzer\n",
    "from nltk.sentiment.vader import SentimentIntensityAnalyzer\n",
    "from nltk.tokenize import word_tokenize\n",
    "from tensorflow.keras.preprocessing.image import ImageDataGenerator\n",
    "from tensorflow.keras import datasets, layers, models, utils\n",
    "from tensorflow.keras.callbacks import EarlyStopping\n",
    "import matplotlib.pyplot as plt\n",
    "import tensorflow as tf\n",
    "from sklearn.neighbors import KNeighborsClassifier\n",
    "from sklearn.ensemble import RandomForestClassifier\n",
    "from sklearn import tree\n",
    "from sklearn.neural_network import MLPClassifier\n",
    "from sklearn.svm import SVC\n",
    "from sklearn.model_selection import train_test_split\n",
    "from sklearn.metrics import accuracy_score\n",
    "from imblearn.over_sampling import RandomOverSampler \n",
    "from imblearn.under_sampling import RandomUnderSampler\n",
    "from keras import backend as K"
   ]
  },
  {
   "cell_type": "code",
   "execution_count": 2,
   "id": "4de50c46-9fba-41a1-889d-840592676c8c",
   "metadata": {},
   "outputs": [
    {
     "name": "stdout",
     "output_type": "stream",
     "text": [
      "My favorite buy!I love, love, love this jumpsuit. it's fun, flirty, and fabulous! every time i wear it, i get nothing but great compliments!\n"
     ]
    }
   ],
   "source": [
    "#load data then preprocessing\n",
    "data = pd.read_csv('Womens Clothing E-Commerce Reviews.csv',sep=',',header=0)\n",
    "#fill empty cells with empty strings (vader gives these a neutral rating)\n",
    "data = data.fillna('')\n",
    "#features dataframe\n",
    "features = pd.DataFrame()\n",
    "print(data['Title'].iat[3] + data['Review Text'].iat[3])"
   ]
  },
  {
   "cell_type": "code",
   "execution_count": 3,
   "id": "7c279fc6-9932-4ad0-9968-ca20a01bbdf9",
   "metadata": {},
   "outputs": [],
   "source": [
    "title_sentiment = []\n",
    "text_sentiment = []\n",
    "#add sentiment values to feature dataframe\n",
    "#sentiment values are pulled from nltk's VADER sentiment analysis\n",
    "for i in range(len(data)):\n",
    "    sid = SentimentIntensityAnalyzer()\n",
    "    ss = sid.polarity_scores(data['Title'].iat[i])\n",
    "    title_sentiment.append(ss['compound'])\n",
    "    ss = sid.polarity_scores(data['Review Text'].iat[i])\n",
    "    text_sentiment.append(ss['compound'])\n",
    "features['Title Sentiment'] = title_sentiment\n",
    "features['Text Sentiment'] = text_sentiment\n",
    "#add recommended and feedback to feature dataframe\n",
    "features['Recommended'] = data['Recommended IND'].values\n",
    "features['Feedback'] = data['Positive Feedback Count'].values"
   ]
  },
  {
   "cell_type": "code",
   "execution_count": 4,
   "id": "8cada35c-ef81-46eb-b281-477e4dfd64f3",
   "metadata": {},
   "outputs": [
    {
     "name": "stdout",
     "output_type": "stream",
     "text": [
      "   Title Sentiment  Text Sentiment  Recommended  Feedback\n",
      "0           0.0000          0.8932            1         0\n",
      "1           0.0000          0.9729            1         4\n",
      "2           0.0000          0.9427            0         0\n",
      "3           0.5093          0.5727            1         0\n",
      "4           0.3182          0.9291            1         6\n",
      "5           0.0000          0.9419            0         4\n",
      "6           0.5106          0.8004            1         1\n",
      "7           0.2960         -0.0909            1         4\n",
      "8           0.3182          0.7175            1         0\n",
      "9           0.5562         -0.3724            1         0\n"
     ]
    }
   ],
   "source": [
    "ros = RandomOverSampler(random_state=0)\n",
    "rus = RandomUnderSampler(random_state=0)\n",
    "ros_features, ros_Y = ros.fit_resample(features, data['Rating'])\n",
    "rus_features, rus_Y = rus.fit_resample(features, data['Rating'])\n",
    "#make dummies dataframe of Y\n",
    "Y = pd.get_dummies(data['Rating'])\n",
    "rus_Y = pd.get_dummies(rus_Y)\n",
    "ros_Y = pd.get_dummies(ros_Y)\n",
    "print(features.head(10))\n"
   ]
  },
  {
   "cell_type": "code",
   "execution_count": 5,
   "id": "bc76714a-0124-4e76-ba94-8b60129f850f",
   "metadata": {},
   "outputs": [],
   "source": [
    "def recall_m(y_true, y_pred):\n",
    "    true_positives = K.sum(K.round(K.clip(y_true * y_pred, 0, 1)))\n",
    "    possible_positives = K.sum(K.round(K.clip(y_true, 0, 1)))\n",
    "    recall = true_positives / (possible_positives + K.epsilon())\n",
    "    return recall\n",
    "\n",
    "def precision_m(y_true, y_pred):\n",
    "    true_positives = K.sum(K.round(K.clip(y_true * y_pred, 0, 1)))\n",
    "    predicted_positives = K.sum(K.round(K.clip(y_pred, 0, 1)))\n",
    "    precision = true_positives / (predicted_positives + K.epsilon())\n",
    "    return precision\n",
    "\n",
    "def f1_m(y_true, y_pred):\n",
    "    precision = precision_m(y_true, y_pred)\n",
    "    recall = recall_m(y_true, y_pred)\n",
    "    return 2*((precision*recall)/(precision+recall+K.epsilon()))"
   ]
  },
  {
   "cell_type": "code",
   "execution_count": 160,
   "id": "686f0928-64fb-493f-a8d8-1239c0292e9f",
   "metadata": {},
   "outputs": [
    {
     "name": "stdout",
     "output_type": "stream",
     "text": [
      "Model: \"sequential_18\"\n",
      "_________________________________________________________________\n",
      " Layer (type)                Output Shape              Param #   \n",
      "=================================================================\n",
      " dense_90 (Dense)            (None, 2048)              10240     \n",
      "                                                                 \n",
      " dense_91 (Dense)            (None, 512)               1049088   \n",
      "                                                                 \n",
      " dense_92 (Dense)            (None, 256)               131328    \n",
      "                                                                 \n",
      " dense_93 (Dense)            (None, 128)               32896     \n",
      "                                                                 \n",
      " dense_94 (Dense)            (None, 5)                 645       \n",
      "                                                                 \n",
      "=================================================================\n",
      "Total params: 1,224,197\n",
      "Trainable params: 1,224,197\n",
      "Non-trainable params: 0\n",
      "_________________________________________________________________\n"
     ]
    }
   ],
   "source": [
    "Xtrain, Xtest, Ytrain, Ytest = train_test_split(features, Y, test_size=0.3)\n",
    "callback = tf.keras.callbacks.EarlyStopping(monitor='mean_squared_error', patience=3, mode='max')\n",
    "#convert to tensor while splitting data into batches\n",
    "Xtrain = tf.convert_to_tensor(Xtrain)\n",
    "Ytrain = tf.convert_to_tensor(Ytrain)\n",
    "Xtest = tf.convert_to_tensor(Xtest)\n",
    "Ytest = tf.convert_to_tensor(Ytest)\n",
    "#construct and compile model\n",
    "model = models.Sequential()\n",
    "#tested other activation functions, relu results in the highest accuracy\n",
    "model.add(layers.Dense(2048, activation='sigmoid', input_shape=(4,)))\n",
    "model.add(layers.Dense(512, activation='sigmoid'))\n",
    "model.add(layers.Dense(256, activation='sigmoid'))\n",
    "model.add(layers.Dense(128, activation='sigmoid'))\n",
    "#model.add(layers.Dropout(0.2))\n",
    "model.add(layers.Dense(5))\n",
    "model.summary()\n",
    "model.compile(optimizer='adam', \n",
    "              loss=tf.keras.losses.CategoricalCrossentropy(from_logits=True), \n",
    "              metrics=['accuracy', 'mean_squared_error', recall_m, precision_m, f1_m])"
   ]
  },
  {
   "cell_type": "code",
   "execution_count": 161,
   "id": "a196ab56-a0af-47e4-8b63-919f762fc735",
   "metadata": {},
   "outputs": [
    {
     "name": "stdout",
     "output_type": "stream",
     "text": [
      "Epoch 1/20\n",
      "514/514 [==============================] - 6s 11ms/step - loss: 1.1486 - accuracy: 0.5769 - mean_squared_error: 1.1515 - recall_m: 0.7153 - precision_m: 0.4677 - f1_m: 0.5511 - val_loss: 0.9182 - val_accuracy: 0.6213 - val_mean_squared_error: 3.6066 - val_recall_m: 0.8975 - val_precision_m: 0.4506 - val_f1_m: 0.6000\n",
      "Epoch 2/20\n",
      "514/514 [==============================] - 5s 11ms/step - loss: 0.8818 - accuracy: 0.6280 - mean_squared_error: 4.3317 - recall_m: 0.9289 - precision_m: 0.4280 - f1_m: 0.5849 - val_loss: 0.8825 - val_accuracy: 0.6215 - val_mean_squared_error: 4.8323 - val_recall_m: 0.9215 - val_precision_m: 0.4400 - val_f1_m: 0.5955\n",
      "Epoch 3/20\n",
      "514/514 [==============================] - 5s 11ms/step - loss: 0.8677 - accuracy: 0.6315 - mean_squared_error: 5.0705 - recall_m: 0.9279 - precision_m: 0.4315 - f1_m: 0.5885 - val_loss: 0.8817 - val_accuracy: 0.6148 - val_mean_squared_error: 6.1216 - val_recall_m: 0.9362 - val_precision_m: 0.4310 - val_f1_m: 0.5901\n",
      "Epoch 4/20\n",
      "514/514 [==============================] - 5s 10ms/step - loss: 0.8671 - accuracy: 0.6323 - mean_squared_error: 5.8629 - recall_m: 0.9361 - precision_m: 0.4262 - f1_m: 0.5850 - val_loss: 0.8935 - val_accuracy: 0.6137 - val_mean_squared_error: 6.3354 - val_recall_m: 0.9331 - val_precision_m: 0.4342 - val_f1_m: 0.5925\n",
      "Epoch 5/20\n",
      "514/514 [==============================] - 5s 10ms/step - loss: 0.8613 - accuracy: 0.6324 - mean_squared_error: 5.9795 - recall_m: 0.9325 - precision_m: 0.4309 - f1_m: 0.5888 - val_loss: 0.8821 - val_accuracy: 0.5957 - val_mean_squared_error: 5.2266 - val_recall_m: 0.9331 - val_precision_m: 0.4324 - val_f1_m: 0.5908\n",
      "Epoch 6/20\n",
      "514/514 [==============================] - 5s 11ms/step - loss: 0.8594 - accuracy: 0.6312 - mean_squared_error: 6.1098 - recall_m: 0.9309 - precision_m: 0.4334 - f1_m: 0.5910 - val_loss: 0.8741 - val_accuracy: 0.6223 - val_mean_squared_error: 6.4607 - val_recall_m: 0.9217 - val_precision_m: 0.4456 - val_f1_m: 0.6007\n",
      "Epoch 7/20\n",
      "514/514 [==============================] - 5s 11ms/step - loss: 0.8592 - accuracy: 0.6349 - mean_squared_error: 6.3253 - recall_m: 0.9308 - precision_m: 0.4342 - f1_m: 0.5918 - val_loss: 0.8986 - val_accuracy: 0.6218 - val_mean_squared_error: 6.7470 - val_recall_m: 0.9365 - val_precision_m: 0.3989 - val_f1_m: 0.5593\n",
      "Epoch 8/20\n",
      "514/514 [==============================] - 6s 11ms/step - loss: 0.8585 - accuracy: 0.6333 - mean_squared_error: 6.2067 - recall_m: 0.9280 - precision_m: 0.4363 - f1_m: 0.5931 - val_loss: 0.8811 - val_accuracy: 0.6150 - val_mean_squared_error: 7.4196 - val_recall_m: 0.9335 - val_precision_m: 0.4331 - val_f1_m: 0.5916\n",
      "Epoch 9/20\n",
      "514/514 [==============================] - 5s 11ms/step - loss: 0.8570 - accuracy: 0.6330 - mean_squared_error: 6.8228 - recall_m: 0.9293 - precision_m: 0.4364 - f1_m: 0.5934 - val_loss: 0.8778 - val_accuracy: 0.6228 - val_mean_squared_error: 5.8501 - val_recall_m: 0.8995 - val_precision_m: 0.4503 - val_f1_m: 0.6001\n",
      "Epoch 10/20\n",
      "514/514 [==============================] - 5s 10ms/step - loss: 0.8567 - accuracy: 0.6327 - mean_squared_error: 6.4184 - recall_m: 0.9257 - precision_m: 0.4399 - f1_m: 0.5961 - val_loss: 0.8729 - val_accuracy: 0.6222 - val_mean_squared_error: 5.9910 - val_recall_m: 0.9085 - val_precision_m: 0.4478 - val_f1_m: 0.5998\n",
      "Epoch 11/20\n",
      "514/514 [==============================] - 5s 10ms/step - loss: 0.8557 - accuracy: 0.6336 - mean_squared_error: 6.6260 - recall_m: 0.9320 - precision_m: 0.4366 - f1_m: 0.5943 - val_loss: 0.8877 - val_accuracy: 0.6113 - val_mean_squared_error: 7.0687 - val_recall_m: 0.9328 - val_precision_m: 0.4263 - val_f1_m: 0.5850\n",
      "Epoch 12/20\n",
      "514/514 [==============================] - 5s 10ms/step - loss: 0.8547 - accuracy: 0.6315 - mean_squared_error: 6.3454 - recall_m: 0.9270 - precision_m: 0.4401 - f1_m: 0.5966 - val_loss: 0.8795 - val_accuracy: 0.6240 - val_mean_squared_error: 5.9033 - val_recall_m: 0.9314 - val_precision_m: 0.4310 - val_f1_m: 0.5892\n"
     ]
    }
   ],
   "source": [
    "history = model.fit(Xtrain, \n",
    "                    Ytrain, \n",
    "                    epochs=20, \n",
    "                    verbose=1, \n",
    "                    validation_data=(Xtest, Ytest),\n",
    "                    callbacks=[callback])"
   ]
  },
  {
   "cell_type": "code",
   "execution_count": 162,
   "id": "bb5e046f-0964-4dc3-ab0d-4648b050f949",
   "metadata": {},
   "outputs": [
    {
     "name": "stdout",
     "output_type": "stream",
     "text": [
      "221/221 - 1s - loss: 0.8795 - accuracy: 0.6240 - mean_squared_error: 5.9033 - recall_m: 0.9314 - precision_m: 0.4310 - f1_m: 0.5892 - 677ms/epoch - 3ms/step\n"
     ]
    }
   ],
   "source": [
    "test_mse, test_loss, test_acc, test_recall, test_precision, test_f1 = model.evaluate(Xtest, Ytest, verbose=2)\n"
   ]
  },
  {
   "cell_type": "code",
   "execution_count": 170,
   "id": "cd55fe43-51fa-4be5-a99a-214e5e8c91f1",
   "metadata": {},
   "outputs": [
    {
     "data": {
      "text/plain": [
       "<matplotlib.legend.Legend at 0x22d92b7f670>"
      ]
     },
     "execution_count": 170,
     "metadata": {},
     "output_type": "execute_result"
    },
    {
     "data": {
      "image/png": "[encoded data removed]",
      "text/plain": [
       "<Figure size 432x288 with 1 Axes>"
      ]
     },
     "metadata": {
      "needs_background": "light"
     },
     "output_type": "display_data"
    }
   ],
   "source": [
    "plt.plot(history.history['accuracy'], label='Train Accuracy')\n",
    "plt.plot(history.history['val_accuracy'], label = 'Test Accuracy')\n",
    "plt.xlabel('Epoch')\n",
    "plt.ylabel('Accuracy')\n",
    "plt.ylim([0.5, 0.7])\n",
    "plt.legend(loc='lower right')"
   ]
  },
  {
   "cell_type": "code",
   "execution_count": 169,
   "id": "d184ece5-956f-47a8-97b0-5b07eed2f77d",
   "metadata": {},
   "outputs": [
    {
     "data": {
      "text/plain": [
       "<matplotlib.legend.Legend at 0x22d92f0d090>"
      ]
     },
     "execution_count": 169,
     "metadata": {},
     "output_type": "execute_result"
    },
    {
     "data": {
      "image/png": "[encoded data removed]",
      "text/plain": [
       "<Figure size 432x288 with 1 Axes>"
      ]
     },
     "metadata": {
      "needs_background": "light"
     },
     "output_type": "display_data"
    }
   ],
   "source": [
    "plt.plot(history.history['loss'], label='Train Loss')\n",
    "plt.plot(history.history['val_loss'], label = 'Test Loss')\n",
    "plt.xlabel('Epoch')\n",
    "plt.ylabel('Loss')\n",
    "plt.ylim([0.8, 1.2])\n",
    "plt.legend(loc='upper right')"
   ]
  },
  {
   "cell_type": "code",
   "execution_count": 168,
   "id": "4f882b74-9beb-4b20-b579-0e7f78f75336",
   "metadata": {},
   "outputs": [
    {
     "data": {
      "text/plain": [
       "<matplotlib.legend.Legend at 0x22d95750190>"
      ]
     },
     "execution_count": 168,
     "metadata": {},
     "output_type": "execute_result"
    },
    {
     "data": {
      "image/png": "[encoded data removed]",
      "text/plain": [
       "<Figure size 432x288 with 1 Axes>"
      ]
     },
     "metadata": {
      "needs_background": "light"
     },
     "output_type": "display_data"
    }
   ],
   "source": [
    "plt.plot(history.history['mean_squared_error'], label='Train MSE')\n",
    "plt.plot(history.history['val_mean_squared_error'], label = 'Test MSE')\n",
    "plt.xlabel('Epoch')\n",
    "plt.ylabel('MSE')\n",
    "plt.ylim([0.8, 8])\n",
    "plt.legend(loc='upper right')"
   ]
  },
  {
   "cell_type": "code",
   "execution_count": 166,
   "id": "98a10a53-7e22-486c-9f8f-74a7e36aca4d",
   "metadata": {},
   "outputs": [
    {
     "data": {
      "text/plain": [
       "<matplotlib.legend.Legend at 0x22d9ae8b040>"
      ]
     },
     "execution_count": 166,
     "metadata": {},
     "output_type": "execute_result"
    },
    {
     "data": {
      "image/png": "[encoded data removed]",
      "text/plain": [
       "<Figure size 432x288 with 1 Axes>"
      ]
     },
     "metadata": {
      "needs_background": "light"
     },
     "output_type": "display_data"
    }
   ],
   "source": [
    "plt.plot(history.history['f1_m'], label='Train F1')\n",
    "plt.plot(history.history['val_f1_m'], label = 'Test F1')\n",
    "plt.xlabel('Epoch')\n",
    "plt.ylabel('F1')\n",
    "plt.ylim([0.5, 0.65])\n",
    "plt.legend(loc='upper right')"
   ]
  },
  {
   "cell_type": "code",
   "execution_count": 167,
   "id": "21230428-3bd3-42e6-86e5-b13e73a6f95f",
   "metadata": {},
   "outputs": [
    {
     "data": {
      "text/plain": [
       "<matplotlib.legend.Legend at 0x22d92dcb280>"
      ]
     },
     "execution_count": 167,
     "metadata": {},
     "output_type": "execute_result"
    },
    {
     "data": {
      "image/png": "[encoded data removed]",
      "text/plain": [
       "<Figure size 432x288 with 1 Axes>"
      ]
     },
     "metadata": {
      "needs_background": "light"
     },
     "output_type": "display_data"
    }
   ],
   "source": [
    "plt.plot(history.history['recall_m'], label='Test Recall')\n",
    "plt.plot(history.history['val_recall_m'], label = 'Train Recall')\n",
    "plt.xlabel('Epoch')\n",
    "plt.ylabel('Recall')\n",
    "plt.ylim([0.7, 1.1])\n",
    "plt.legend(loc='upper right')"
   ]
  },
  {
   "cell_type": "code",
   "execution_count": 173,
   "id": "7ce19acd-5002-4aef-a08d-7dc9a182f42b",
   "metadata": {},
   "outputs": [
    {
     "data": {
      "text/plain": [
       "MLPClassifier(max_iter=1000, random_state=0)"
      ]
     },
     "execution_count": 173,
     "metadata": {},
     "output_type": "execute_result"
    }
   ],
   "source": [
    "Xtrain, Xtest, Ytrain, Ytest = train_test_split(features, Y, test_size=0.3)\n",
    "knn = KNeighborsClassifier(n_neighbors=50,algorithm='ball_tree')\n",
    "knn.fit(Xtrain, Ytrain)\n",
    "rforest = RandomForestClassifier(n_estimators=500,criterion='entropy',random_state=0)\n",
    "rforest.fit(Xtrain, Ytrain)\n",
    "gini = tree.DecisionTreeClassifier(criterion='gini',random_state=0)\n",
    "gini.fit(Xtrain, Ytrain)\n",
    "info = tree.DecisionTreeClassifier(criterion='entropy',random_state=0)\n",
    "info.fit(Xtrain, Ytrain)\n",
    "nn = MLPClassifier(max_iter=1000, activation='relu', random_state=0)\n",
    "nn.fit(Xtrain, Ytrain)"
   ]
  },
  {
   "cell_type": "code",
   "execution_count": 174,
   "id": "a2f876ea-afa6-4369-af93-2805ffd5ebe8",
   "metadata": {},
   "outputs": [],
   "source": [
    "knnpred = knn.predict(Xtest)\n",
    "rfpred = rforest.predict(Xtest)\n",
    "ginipred = gini.predict(Xtest)\n",
    "infopred = info.predict(Xtest)\n",
    "nnpred = nn.predict(Xtest)"
   ]
  },
  {
   "cell_type": "code",
   "execution_count": 176,
   "id": "76b2b646-2ec3-4fc4-85c4-f9edc200758b",
   "metadata": {},
   "outputs": [
    {
     "data": {
      "text/plain": [
       "[Text(0, 1, '0.526256'),\n",
       " Text(0, 1, '0.541726'),\n",
       " Text(0, 1, '0.532359'),\n",
       " Text(0, 1, '0.531365'),\n",
       " Text(0, 1, '0.541016'),\n",
       " Text(0, 1, '0.624042')]"
      ]
     },
     "execution_count": 176,
     "metadata": {},
     "output_type": "execute_result"
    },
    {
     "data": {
      "image/png": "[encoded data removed]",
      "text/plain": [
       "<Figure size 432x288 with 1 Axes>"
      ]
     },
     "metadata": {
      "needs_background": "light"
     },
     "output_type": "display_data"
    }
   ],
   "source": [
    "accuracies = [accuracy_score(Ytest, knnpred), accuracy_score(Ytest, rfpred), accuracy_score(Ytest, ginipred), accuracy_score(Ytest, infopred), accuracy_score(Ytest, nnpred), history.history['val_accuracy'][-1]]\n",
    "fig = plt.figure()\n",
    "ax = fig.add_axes([0,0,1,1.1])\n",
    "\n",
    "rect = ax.bar(['K-Nearest\\nNeighbours','Random\\nForest','Gini\\nDecision Tree','Entropy\\nDecision\\nTree','Sci-kit Learn\\nNeural Net','Tensorflow\\nNeural Net'], accuracies, color='orange')\n",
    "ax.bar_label(rect, padding=1)\n"
   ]
  },
  {
   "cell_type": "raw",
   "id": "57bfc954-08b9-4c49-a0ed-0998c50bede9",
   "metadata": {},
   "source": [
    "no under/over sampling\n",
    "-- val_accuracy: 64.35%\n",
    "-- val_loss: 0.8360\n",
    "-- val_mean_squared_error: 8.7161\n",
    "under sampling\n",
    "-- val_accuracy: 44.5%\n",
    "-- val_loss: 1.1106\n",
    "-- val_mean_squared_error: 4.5401\n",
    "over sampling\n",
    "-- val_accuracy: 50.34%\n",
    "-- val_loss: 1.0358\n",
    "-- val_mean_squared_error: 11.3707"
   ]
  },
  {
   "cell_type": "code",
   "execution_count": null,
   "id": "1c44fde0-8604-4a77-a7a3-1cfc8859e71e",
   "metadata": {},
   "outputs": [],
   "source": [
    "names = ['No\\nSampling', 'Under\\nSampling','Over\\nSampling']\n",
    "acc = [0.6435,0.4450,0.5034]\n",
    "los = [0.8360,1.1106,1.0358]\n",
    "mse = [8.7161,4.5401,11.3707]\n",
    "x = np.arange(len(names))\n",
    "fig = plt.figure()\n",
    "ax = fig.add_axes([0,0,1,1.5])\n",
    "rects1 = ax.bar(x - 0.25, acc, 0.25, label='Accuracy')\n",
    "rects2 = ax.bar(x + 0.25, los, 0.25, label='Loss')\n",
    "ax.set_ylabel('Accuracy & Loss')\n",
    "ax2 = ax.twinx()\n",
    "ax2.set_ylabel('Mean Squared Error')\n",
    "rects3 = ax2.bar(x, mse, 0.25, color='green', label='MSE')\n",
    "ax.bar_label(rects1, padding=3)\n",
    "ax.bar_label(rects2, padding=3)\n",
    "ax2.bar_label(rects3, padding=3)\n",
    "ax.set_xticks(x, names)\n",
    "lines, labels = ax.get_legend_handles_labels()\n",
    "lines2, labels2 = ax2.get_legend_handles_labels()\n",
    "ax2.legend(lines + lines2, labels + labels2, loc=0)"
   ]
  },
  {
   "cell_type": "code",
   "execution_count": null,
   "id": "eb878f21-b317-484c-8980-fea8b18d3c1d",
   "metadata": {},
   "outputs": [],
   "source": [
    "names= ['1','2','3','4','5'][::-1]\n",
    "freq = data['Rating'].value_counts()\n",
    "fig = plt.figure()\n",
    "ax = fig.add_axes([0,0,1,1.1])\n",
    "ax.bar(names, freq)"
   ]
  },
  {
   "cell_type": "code",
   "execution_count": null,
   "id": "5f127c55-2924-4dd3-96e7-1086c6285a9c",
   "metadata": {},
   "outputs": [],
   "source": [
    "exploded = data['Review Text'].explode()\n",
    "freq = [word_tokenize(i) for i in exploded]\n",
    "freq = pd.Series(freq).explode()\n",
    "freq=np.concatenate(freq.values, axis=None)"
   ]
  },
  {
   "cell_type": "code",
   "execution_count": null,
   "id": "764c2775-1326-4de7-84a1-c485f1bece8f",
   "metadata": {},
   "outputs": [],
   "source": [
    "fdist = nltk.FreqDist(freq)\n",
    "stopwords = nltk.corpus.stopwords.words('english')\n",
    "stopwords.append(\"n't\")\n",
    "dict_filter = lambda word_freq, stopwords: dict( (word,word_freq[word]) for word in word_freq if word not in stopwords and len(word) > 2)\n",
    "filtered_fdist = dict_filter(fdist, stopwords)"
   ]
  },
  {
   "cell_type": "code",
   "execution_count": null,
   "id": "4c29cd0f-ecdb-4972-88d0-d1da8dceb984",
   "metadata": {},
   "outputs": [],
   "source": [
    "a = list(filtered_fdist.keys())\n",
    "b = list(filtered_fdist.values())\n",
    "fig = plt.figure()\n",
    "ax = fig.add_axes([0,0,1,1.1])\n",
    "ax.bar(a[:10], b[:10])"
   ]
  },
  {
   "cell_type": "code",
   "execution_count": null,
   "id": "ce606b0d-4464-4c8d-91f1-9c9024686e40",
   "metadata": {},
   "outputs": [],
   "source": []
  },
  {
   "cell_type": "code",
   "execution_count": null,
   "id": "a2022c1b-8f8e-4fba-8029-76342658c565",
   "metadata": {},
   "outputs": [],
   "source": []
  }
 ],
 "metadata": {
  "kernelspec": {
   "display_name": "Python 3 (ipykernel)",
   "language": "python",
   "name": "python3"
  },
  "language_info": {
   "codemirror_mode": {
    "name": "ipython",
    "version": 3
   },
   "file_extension": ".py",
   "mimetype": "text/x-python",
   "name": "python",
   "nbconvert_exporter": "python",
   "pygments_lexer": "ipython3",
   "version": "3.10.2"
  }
 },
 "nbformat": 4,
 "nbformat_minor": 5
}
