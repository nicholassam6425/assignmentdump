{
 "cells": [
  {
   "cell_type": "raw",
   "id": "c5e979e8-1bae-4c11-88ae-b293b595f550",
   "metadata": {},
   "source": [
    "1. \n",
    "P(a, b, c, d, e, f, g) = P(a) P(b|a) P(c|b) P(g) P(f|g) P(d|f, c) P(e|d)\n",
    "2. \n",
    "P(K = 1 | a = 1, b = 1, c = 0) = 0\n",
    "P(K = 0 | a = 1, b = 1) = 0.5"
   ]
  },
  {
   "cell_type": "code",
   "execution_count": 17,
   "id": "ab022867-107f-4d88-907c-18422e1c6b67",
   "metadata": {},
   "outputs": [],
   "source": [
    "import pandas as pd\n",
    "from sklearn.model_selection import train_test_split\n",
    "from sklearn.neighbors import KNeighborsClassifier\n",
    "from sklearn.ensemble import RandomForestClassifier\n",
    "from sklearn.naive_bayes import ComplementNB\n",
    "from sklearn.metrics import f1_score\n",
    "from sklearn import preprocessing\n",
    "import seaborn as sns\n",
    "import matplotlib.pyplot as plt"
   ]
  },
  {
   "cell_type": "code",
   "execution_count": 3,
   "id": "2f0b5361-f5d0-418b-9742-f17efc493836",
   "metadata": {
    "tags": []
   },
   "outputs": [],
   "source": [
    "data = pd.read_csv('C:\\\\Users\\\\ayyy\\\\ipython\\\\otto.csv',sep=',',header=0)\n",
    "data = data.drop('id',axis=1)"
   ]
  },
  {
   "cell_type": "code",
   "execution_count": 4,
   "id": "9caa0a58-466f-4b04-b5bb-eeb43b25763a",
   "metadata": {},
   "outputs": [
    {
     "name": "stdout",
     "output_type": "stream",
     "text": [
      "Instances: 61878\n",
      "Classes: 94\n"
     ]
    }
   ],
   "source": [
    "#2.1.1\n",
    "print(f\"Instances: {len(data)}\\nClasses: {len(data.columns)}\")"
   ]
  },
  {
   "cell_type": "code",
   "execution_count": 5,
   "id": "ef313a8d-cb61-4dbc-808d-d129c55d89c8",
   "metadata": {},
   "outputs": [],
   "source": [
    "#2.1.2\n",
    "#set every cell to itself as an int (except target)\n",
    "data.iloc[:,1:-1] = data.iloc[:,:-1].astype(int)\n",
    "#create a new column. if this column = 0, remove the row.\n",
    "data['zcheck'] = data.iloc[:, 1:-1].sum(numeric_only = True, axis = 1)\n",
    "data = data[data.zcheck != 0]\n",
    "#remove 0check column after removing all the 0 rows\n",
    "data = data.drop('zcheck', axis=1)"
   ]
  },
  {
   "cell_type": "code",
   "execution_count": 6,
   "id": "b66448fa-e6b9-4f36-af6a-8bf669acf42c",
   "metadata": {},
   "outputs": [],
   "source": [
    "#2.1.3\n",
    "label = preprocessing.LabelEncoder()\n",
    "data['target'] = label.fit_transform(data['target'])\n",
    "Y = data.target\n",
    "X = data.drop('target', axis=1)\n",
    "X_train, X_test, Y_train, Y_test = train_test_split(X, Y, train_size=0.8,random_state=0)"
   ]
  },
  {
   "cell_type": "code",
   "execution_count": 18,
   "id": "7ab19121-b17a-4a6e-9f8a-648ad62e8900",
   "metadata": {},
   "outputs": [
    {
     "data": {
      "text/plain": [
       "ComplementNB()"
      ]
     },
     "execution_count": 18,
     "metadata": {},
     "output_type": "execute_result"
    }
   ],
   "source": [
    "#2.2\n",
    "knn = KNeighborsClassifier(n_neighbors=10,algorithm='ball_tree')\n",
    "knn.fit(X_train, Y_train)\n",
    "rforest = RandomForestClassifier(n_estimators=100,criterion='entropy',random_state=0)\n",
    "rforest.fit(X_train, Y_train)\n",
    "nb = ComplementNB()\n",
    "nb.fit(X_train, Y_train)"
   ]
  },
  {
   "cell_type": "code",
   "execution_count": 19,
   "id": "9e5f7ce4-1f4d-4640-ab78-fcb0e47e8558",
   "metadata": {},
   "outputs": [],
   "source": [
    "#2.3\n",
    "knnpred = knn.predict(X_test)\n",
    "rforestpred = rforest.predict(X_test)\n",
    "nbpred = nb.predict(X_test)"
   ]
  },
  {
   "cell_type": "raw",
   "id": "be6b7d41-c601-463b-921c-26ec25d86fa8",
   "metadata": {},
   "source": [
    "f1 scores\n",
    "\n",
    "knn\n",
    "***ball_tree, 10: 0.77\n",
    "kd_tree, 10: 0.76\n",
    "kd_tree, 20: 0.76\n",
    "ball_tree, 20: 0.76\n",
    "\n",
    "rforest\n",
    "gini, 100: 0.80\n",
    "gini, 200: 0.80\n",
    "entropy, 200: 0.80\n",
    "***entropy, 100: 0.80\n",
    "\n",
    "nb\n",
    "gaussian: 0.61\n",
    "multinomial: 0.65\n",
    "***complement: 0.70\n",
    "bernoulli: 0.60"
   ]
  },
  {
   "cell_type": "code",
   "execution_count": 21,
   "id": "64667f90-7a83-468e-9225-dacf2c512ce5",
   "metadata": {},
   "outputs": [
    {
     "data": {
      "text/plain": [
       "<AxesSubplot:>"
      ]
     },
     "execution_count": 21,
     "metadata": {},
     "output_type": "execute_result"
    },
    {
     "data": {
      "image/png": "[encoded data removed]",
      "text/plain": [
       "<Figure size 504x504 with 2 Axes>"
      ]
     },
     "metadata": {},
     "output_type": "display_data"
    }
   ],
   "source": [
    "sns.set()\n",
    "a = {\"KNN\":knnpred, \"RForest\":rforestpred,\"NaiveBayes\":nbpred}\n",
    "corrdata = pd.DataFrame(data=a)\n",
    "corr = corrdata.corr(method='pearson')\n",
    "f, ax = plt.subplots(figsize=(7,7))\n",
    "sns.heatmap(corr, annot=True, linewidths=.5, ax=ax)"
   ]
  },
  {
   "cell_type": "raw",
   "id": "b0cec347-8ce5-4186-82ad-60b65f215b85",
   "metadata": {},
   "source": [
    "To choose the best performing method, I simply kept changing parameters \n",
    "until it got to what I thought would be high enough. For the Naive Bayes\n",
    "algorithm though, I had to change which type of classifier to use, and\n",
    "ended up with Complement Naive Bayes being the highest. The F1 measure was\n",
    "likely the best score to measure the predictions as the goal of classifying\n",
    "commercial goods is to just be as correct as possible, all around, which\n",
    "is why i chose to use the 'micro' average available in scikitlearn. It simply\n",
    "takes the unweighted average of true positives, false negatives and false positives\n",
    "to calculate the f1 score."
   ]
  }
 ],
 "metadata": {
  "kernelspec": {
   "display_name": "Python 3 (ipykernel)",
   "language": "python",
   "name": "python3"
  },
  "language_info": {
   "codemirror_mode": {
    "name": "ipython",
    "version": 3
   },
   "file_extension": ".py",
   "mimetype": "text/x-python",
   "name": "python",
   "nbconvert_exporter": "python",
   "pygments_lexer": "ipython3",
   "version": "3.10.2"
  }
 },
 "nbformat": 4,
 "nbformat_minor": 5
}
