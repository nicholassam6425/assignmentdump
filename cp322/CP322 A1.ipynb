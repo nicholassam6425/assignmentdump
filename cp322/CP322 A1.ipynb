{
 "cells": [
  {
   "cell_type": "code",
   "execution_count": 12,
   "id": "ab68cc8d-8e45-4d52-a46c-dd69e5593524",
   "metadata": {},
   "outputs": [],
   "source": [
    "import pandas as pd\n",
    "import numpy as np\n",
    "import sys\n",
    "from sklearn import tree\n",
    "from sklearn.datasets import load_iris\n",
    "from sklearn.model_selection import train_test_split\n",
    "from sklearn.model_selection import cross_val_score\n",
    "from sklearn.ensemble import RandomForestClassifier\n",
    "from sklearn.metrics import precision_recall_fscore_support\n",
    "from matplotlib import pyplot as plt\n",
    "np.set_printoptions(linewidth=200)\n",
    "pd.set_option('display.max_rows', None)\n",
    "pd.set_option('display.max_columns', None)\n",
    "pd.set_option('display.width', 1000)"
   ]
  },
  {
   "cell_type": "code",
   "execution_count": 13,
   "id": "5ef7cfde-5a0a-458f-8fc7-a1a013eab18b",
   "metadata": {},
   "outputs": [],
   "source": [
    "data = pd.read_csv('C:\\\\Users\\\\ayyy\\\\ipython\\\\loan_data.csv',sep=',',header=0)"
   ]
  },
  {
   "cell_type": "code",
   "execution_count": 14,
   "id": "8c3a7ad6-2086-4e67-a443-d15df8402aa7",
   "metadata": {},
   "outputs": [
    {
     "data": {
      "text/html": [
       "<div>\n",
       "<style scoped>\n",
       "    .dataframe tbody tr th:only-of-type {\n",
       "        vertical-align: middle;\n",
       "    }\n",
       "\n",
       "    .dataframe tbody tr th {\n",
       "        vertical-align: top;\n",
       "    }\n",
       "\n",
       "    .dataframe thead th {\n",
       "        text-align: right;\n",
       "    }\n",
       "</style>\n",
       "<table border=\"1\" class=\"dataframe\">\n",
       "  <thead>\n",
       "    <tr style=\"text-align: right;\">\n",
       "      <th></th>\n",
       "      <th>credit.policy</th>\n",
       "      <th>purpose</th>\n",
       "      <th>int.rate</th>\n",
       "      <th>installment</th>\n",
       "      <th>log.annual.inc</th>\n",
       "      <th>dti</th>\n",
       "      <th>fico</th>\n",
       "      <th>days.with.cr.line</th>\n",
       "      <th>revol.bal</th>\n",
       "      <th>revol.util</th>\n",
       "      <th>inq.last.6mths</th>\n",
       "      <th>delinq.2yrs</th>\n",
       "      <th>pub.rec</th>\n",
       "      <th>not.fully.paid</th>\n",
       "    </tr>\n",
       "  </thead>\n",
       "  <tbody>\n",
       "    <tr>\n",
       "      <th>0</th>\n",
       "      <td>1</td>\n",
       "      <td>debt_consolidation</td>\n",
       "      <td>0.1189</td>\n",
       "      <td>829.10</td>\n",
       "      <td>11.350407</td>\n",
       "      <td>19.48</td>\n",
       "      <td>737</td>\n",
       "      <td>5639.958333</td>\n",
       "      <td>28854</td>\n",
       "      <td>52.1</td>\n",
       "      <td>0</td>\n",
       "      <td>0</td>\n",
       "      <td>0</td>\n",
       "      <td>0</td>\n",
       "    </tr>\n",
       "    <tr>\n",
       "      <th>1</th>\n",
       "      <td>1</td>\n",
       "      <td>credit_card</td>\n",
       "      <td>0.1071</td>\n",
       "      <td>228.22</td>\n",
       "      <td>11.082143</td>\n",
       "      <td>14.29</td>\n",
       "      <td>707</td>\n",
       "      <td>2760.000000</td>\n",
       "      <td>33623</td>\n",
       "      <td>76.7</td>\n",
       "      <td>0</td>\n",
       "      <td>0</td>\n",
       "      <td>0</td>\n",
       "      <td>0</td>\n",
       "    </tr>\n",
       "    <tr>\n",
       "      <th>2</th>\n",
       "      <td>1</td>\n",
       "      <td>debt_consolidation</td>\n",
       "      <td>0.1357</td>\n",
       "      <td>366.86</td>\n",
       "      <td>10.373491</td>\n",
       "      <td>11.63</td>\n",
       "      <td>682</td>\n",
       "      <td>4710.000000</td>\n",
       "      <td>3511</td>\n",
       "      <td>25.6</td>\n",
       "      <td>1</td>\n",
       "      <td>0</td>\n",
       "      <td>0</td>\n",
       "      <td>0</td>\n",
       "    </tr>\n",
       "    <tr>\n",
       "      <th>3</th>\n",
       "      <td>1</td>\n",
       "      <td>debt_consolidation</td>\n",
       "      <td>0.1008</td>\n",
       "      <td>162.34</td>\n",
       "      <td>11.350407</td>\n",
       "      <td>8.10</td>\n",
       "      <td>712</td>\n",
       "      <td>2699.958333</td>\n",
       "      <td>33667</td>\n",
       "      <td>73.2</td>\n",
       "      <td>1</td>\n",
       "      <td>0</td>\n",
       "      <td>0</td>\n",
       "      <td>0</td>\n",
       "    </tr>\n",
       "    <tr>\n",
       "      <th>4</th>\n",
       "      <td>1</td>\n",
       "      <td>credit_card</td>\n",
       "      <td>0.1426</td>\n",
       "      <td>102.92</td>\n",
       "      <td>11.299732</td>\n",
       "      <td>14.97</td>\n",
       "      <td>667</td>\n",
       "      <td>4066.000000</td>\n",
       "      <td>4740</td>\n",
       "      <td>39.5</td>\n",
       "      <td>0</td>\n",
       "      <td>1</td>\n",
       "      <td>0</td>\n",
       "      <td>0</td>\n",
       "    </tr>\n",
       "  </tbody>\n",
       "</table>\n",
       "</div>"
      ],
      "text/plain": [
       "   credit.policy             purpose  int.rate  installment  log.annual.inc    dti  fico  days.with.cr.line  revol.bal  revol.util  inq.last.6mths  delinq.2yrs  pub.rec  not.fully.paid\n",
       "0              1  debt_consolidation    0.1189       829.10       11.350407  19.48   737        5639.958333      28854        52.1               0            0        0               0\n",
       "1              1         credit_card    0.1071       228.22       11.082143  14.29   707        2760.000000      33623        76.7               0            0        0               0\n",
       "2              1  debt_consolidation    0.1357       366.86       10.373491  11.63   682        4710.000000       3511        25.6               1            0        0               0\n",
       "3              1  debt_consolidation    0.1008       162.34       11.350407   8.10   712        2699.958333      33667        73.2               1            0        0               0\n",
       "4              1         credit_card    0.1426       102.92       11.299732  14.97   667        4066.000000       4740        39.5               0            1        0               0"
      ]
     },
     "execution_count": 14,
     "metadata": {},
     "output_type": "execute_result"
    }
   ],
   "source": [
    "#1.1.1\n",
    "data.head(5)"
   ]
  },
  {
   "cell_type": "code",
   "execution_count": 15,
   "id": "a7194fe8-c527-4d4c-9242-78733e0760d4",
   "metadata": {},
   "outputs": [
    {
     "data": {
      "text/html": [
       "<div>\n",
       "<style scoped>\n",
       "    .dataframe tbody tr th:only-of-type {\n",
       "        vertical-align: middle;\n",
       "    }\n",
       "\n",
       "    .dataframe tbody tr th {\n",
       "        vertical-align: top;\n",
       "    }\n",
       "\n",
       "    .dataframe thead th {\n",
       "        text-align: right;\n",
       "    }\n",
       "</style>\n",
       "<table border=\"1\" class=\"dataframe\">\n",
       "  <thead>\n",
       "    <tr style=\"text-align: right;\">\n",
       "      <th></th>\n",
       "      <th>credit.policy</th>\n",
       "      <th>int.rate</th>\n",
       "      <th>installment</th>\n",
       "      <th>log.annual.inc</th>\n",
       "      <th>dti</th>\n",
       "      <th>fico</th>\n",
       "      <th>days.with.cr.line</th>\n",
       "      <th>revol.bal</th>\n",
       "      <th>revol.util</th>\n",
       "      <th>inq.last.6mths</th>\n",
       "      <th>delinq.2yrs</th>\n",
       "      <th>pub.rec</th>\n",
       "      <th>not.fully.paid</th>\n",
       "    </tr>\n",
       "  </thead>\n",
       "  <tbody>\n",
       "    <tr>\n",
       "      <th>count</th>\n",
       "      <td>9577.000000</td>\n",
       "      <td>9577.000000</td>\n",
       "      <td>9577.000000</td>\n",
       "      <td>9577.000000</td>\n",
       "      <td>9577.000000</td>\n",
       "      <td>9577.000000</td>\n",
       "      <td>9577.000000</td>\n",
       "      <td>9.577000e+03</td>\n",
       "      <td>9577.000000</td>\n",
       "      <td>9577.000000</td>\n",
       "      <td>9577.000000</td>\n",
       "      <td>9577.000000</td>\n",
       "      <td>9577.000000</td>\n",
       "    </tr>\n",
       "    <tr>\n",
       "      <th>mean</th>\n",
       "      <td>0.805054</td>\n",
       "      <td>0.122638</td>\n",
       "      <td>319.033619</td>\n",
       "      <td>10.932082</td>\n",
       "      <td>12.606295</td>\n",
       "      <td>710.844106</td>\n",
       "      <td>4560.748482</td>\n",
       "      <td>1.691177e+04</td>\n",
       "      <td>46.798171</td>\n",
       "      <td>1.577007</td>\n",
       "      <td>0.163726</td>\n",
       "      <td>0.062128</td>\n",
       "      <td>0.159967</td>\n",
       "    </tr>\n",
       "    <tr>\n",
       "      <th>std</th>\n",
       "      <td>0.396180</td>\n",
       "      <td>0.026848</td>\n",
       "      <td>207.010102</td>\n",
       "      <td>0.614835</td>\n",
       "      <td>6.884227</td>\n",
       "      <td>37.971904</td>\n",
       "      <td>2497.060076</td>\n",
       "      <td>3.375727e+04</td>\n",
       "      <td>29.015745</td>\n",
       "      <td>2.199896</td>\n",
       "      <td>0.546241</td>\n",
       "      <td>0.262139</td>\n",
       "      <td>0.366594</td>\n",
       "    </tr>\n",
       "    <tr>\n",
       "      <th>min</th>\n",
       "      <td>0.000000</td>\n",
       "      <td>0.060000</td>\n",
       "      <td>15.670000</td>\n",
       "      <td>7.547502</td>\n",
       "      <td>0.000000</td>\n",
       "      <td>612.000000</td>\n",
       "      <td>178.958333</td>\n",
       "      <td>0.000000e+00</td>\n",
       "      <td>0.000000</td>\n",
       "      <td>0.000000</td>\n",
       "      <td>0.000000</td>\n",
       "      <td>0.000000</td>\n",
       "      <td>0.000000</td>\n",
       "    </tr>\n",
       "    <tr>\n",
       "      <th>25%</th>\n",
       "      <td>1.000000</td>\n",
       "      <td>0.103900</td>\n",
       "      <td>163.770000</td>\n",
       "      <td>10.558414</td>\n",
       "      <td>7.210000</td>\n",
       "      <td>682.000000</td>\n",
       "      <td>2820.000000</td>\n",
       "      <td>3.187000e+03</td>\n",
       "      <td>22.600000</td>\n",
       "      <td>0.000000</td>\n",
       "      <td>0.000000</td>\n",
       "      <td>0.000000</td>\n",
       "      <td>0.000000</td>\n",
       "    </tr>\n",
       "    <tr>\n",
       "      <th>50%</th>\n",
       "      <td>1.000000</td>\n",
       "      <td>0.122100</td>\n",
       "      <td>268.950000</td>\n",
       "      <td>10.928238</td>\n",
       "      <td>12.660000</td>\n",
       "      <td>707.000000</td>\n",
       "      <td>4139.958333</td>\n",
       "      <td>8.596000e+03</td>\n",
       "      <td>46.300000</td>\n",
       "      <td>1.000000</td>\n",
       "      <td>0.000000</td>\n",
       "      <td>0.000000</td>\n",
       "      <td>0.000000</td>\n",
       "    </tr>\n",
       "    <tr>\n",
       "      <th>75%</th>\n",
       "      <td>1.000000</td>\n",
       "      <td>0.140700</td>\n",
       "      <td>432.350000</td>\n",
       "      <td>11.291780</td>\n",
       "      <td>17.950000</td>\n",
       "      <td>737.000000</td>\n",
       "      <td>5730.000000</td>\n",
       "      <td>1.824200e+04</td>\n",
       "      <td>70.900000</td>\n",
       "      <td>2.000000</td>\n",
       "      <td>0.000000</td>\n",
       "      <td>0.000000</td>\n",
       "      <td>0.000000</td>\n",
       "    </tr>\n",
       "    <tr>\n",
       "      <th>max</th>\n",
       "      <td>1.000000</td>\n",
       "      <td>0.216400</td>\n",
       "      <td>940.140000</td>\n",
       "      <td>14.528354</td>\n",
       "      <td>29.960000</td>\n",
       "      <td>827.000000</td>\n",
       "      <td>17639.958330</td>\n",
       "      <td>1.207359e+06</td>\n",
       "      <td>119.000000</td>\n",
       "      <td>33.000000</td>\n",
       "      <td>13.000000</td>\n",
       "      <td>5.000000</td>\n",
       "      <td>1.000000</td>\n",
       "    </tr>\n",
       "  </tbody>\n",
       "</table>\n",
       "</div>"
      ],
      "text/plain": [
       "       credit.policy     int.rate  installment  log.annual.inc          dti         fico  days.with.cr.line     revol.bal   revol.util  inq.last.6mths  delinq.2yrs      pub.rec  not.fully.paid\n",
       "count    9577.000000  9577.000000  9577.000000     9577.000000  9577.000000  9577.000000        9577.000000  9.577000e+03  9577.000000     9577.000000  9577.000000  9577.000000     9577.000000\n",
       "mean        0.805054     0.122638   319.033619       10.932082    12.606295   710.844106        4560.748482  1.691177e+04    46.798171        1.577007     0.163726     0.062128        0.159967\n",
       "std         0.396180     0.026848   207.010102        0.614835     6.884227    37.971904        2497.060076  3.375727e+04    29.015745        2.199896     0.546241     0.262139        0.366594\n",
       "min         0.000000     0.060000    15.670000        7.547502     0.000000   612.000000         178.958333  0.000000e+00     0.000000        0.000000     0.000000     0.000000        0.000000\n",
       "25%         1.000000     0.103900   163.770000       10.558414     7.210000   682.000000        2820.000000  3.187000e+03    22.600000        0.000000     0.000000     0.000000        0.000000\n",
       "50%         1.000000     0.122100   268.950000       10.928238    12.660000   707.000000        4139.958333  8.596000e+03    46.300000        1.000000     0.000000     0.000000        0.000000\n",
       "75%         1.000000     0.140700   432.350000       11.291780    17.950000   737.000000        5730.000000  1.824200e+04    70.900000        2.000000     0.000000     0.000000        0.000000\n",
       "max         1.000000     0.216400   940.140000       14.528354    29.960000   827.000000       17639.958330  1.207359e+06   119.000000       33.000000    13.000000     5.000000        1.000000"
      ]
     },
     "execution_count": 15,
     "metadata": {},
     "output_type": "execute_result"
    }
   ],
   "source": [
    "#1.1.2\n",
    "data.describe()"
   ]
  },
  {
   "cell_type": "code",
   "execution_count": 16,
   "id": "d3533b7b-ff8f-4cb3-8d5b-c40986742d1b",
   "metadata": {
    "tags": []
   },
   "outputs": [
    {
     "data": {
      "text/plain": [
       "count    9577.000000\n",
       "mean        0.805054\n",
       "std         0.396180\n",
       "min         0.000000\n",
       "25%         1.000000\n",
       "50%         1.000000\n",
       "75%         1.000000\n",
       "max         1.000000\n",
       "Name: credit.policy, dtype: float64"
      ]
     },
     "execution_count": 16,
     "metadata": {},
     "output_type": "execute_result"
    }
   ],
   "source": [
    "#1.1.3\n",
    "data['credit.policy'].describe()"
   ]
  },
  {
   "cell_type": "code",
   "execution_count": 17,
   "id": "2021ef65-2116-43a4-af57-08350cafe60e",
   "metadata": {},
   "outputs": [
    {
     "data": {
      "image/png": "[encoded data removed]",
      "text/plain": [
       "<Figure size 432x288 with 1 Axes>"
      ]
     },
     "metadata": {
      "needs_background": "light"
     },
     "output_type": "display_data"
    }
   ],
   "source": [
    "#1.1.4\n",
    "app = []\n",
    "napp = []\n",
    "for _ ,i in data.iterrows():\n",
    "    if i['credit.policy'] == 1:\n",
    "        app.append(i['installment'])\n",
    "    else:\n",
    "        napp.append(i['installment'])\n",
    "plt.hist(app, bins=35, color=[0,0,1], label='approved', alpha=0.5)\n",
    "plt.hist(napp, bins=35, color=[1,0,0], label='not approved', alpha=0.5)\n",
    "plt.legend()\n",
    "plt.show()"
   ]
  },
  {
   "cell_type": "code",
   "execution_count": 18,
   "id": "c850a3fd-1f20-4011-8983-b7f10f159192",
   "metadata": {},
   "outputs": [
    {
     "data": {
      "text/plain": [
       "<AxesSubplot:title={'center':'fico'}, xlabel='credit.policy'>"
      ]
     },
     "execution_count": 18,
     "metadata": {},
     "output_type": "execute_result"
    },
    {
     "data": {
      "image/png": "[encoded data removed]",
      "text/plain": [
       "<Figure size 432x288 with 1 Axes>"
      ]
     },
     "metadata": {
      "needs_background": "light"
     },
     "output_type": "display_data"
    }
   ],
   "source": [
    "#1.1.5\n",
    "data.boxplot(by=\"credit.policy\",column='fico')"
   ]
  },
  {
   "cell_type": "code",
   "execution_count": 19,
   "id": "80f09bc3-5a0f-44e9-a50f-4937b8466f03",
   "metadata": {},
   "outputs": [
    {
     "name": "stdout",
     "output_type": "stream",
     "text": [
      "[0.71982116 0.74366617 0.73770492 0.74925373 0.74179104 0.7119403  0.75223881 0.7358209  0.72985075 0.7358209 ]\n",
      "[0.7466468  0.73174367 0.74068554 0.71791045 0.74029851 0.73283582 0.75671642 0.74626866 0.74626866 0.74328358]\n",
      "[0.82861401 0.83606557 0.83755589 0.83432836 0.83731343 0.83134328 0.82835821 0.82835821 0.83134328 0.83134328]\n",
      "[0.83755589 0.83159463 0.83010432 0.83283582 0.83880597 0.8358209  0.82089552 0.8358209  0.83731343 0.83134328]\n"
     ]
    }
   ],
   "source": [
    "#1.2\n",
    "Y = data['not.fully.paid']\n",
    "X = data.drop('not.fully.paid', axis=1)\n",
    "X = X.join(pd.get_dummies(data.purpose))\n",
    "X = X.drop('purpose', axis=1)\n",
    "X_train, X_test, Y_train, Y_test = train_test_split(X, Y, train_size=0.7,random_state=0)\n",
    "ginicsfr = tree.DecisionTreeClassifier(criterion='gini',random_state=0)\n",
    "ginicsfr.fit(X_train, Y_train)\n",
    "infocsfr = tree.DecisionTreeClassifier(criterion='entropy',random_state=0)\n",
    "infocsfr.fit(X_train, Y_train)\n",
    "ginirforest = RandomForestClassifier(n_estimators=15,criterion='gini',max_samples=1000,random_state=0)\n",
    "ginirforest.fit(X_train,Y_train)\n",
    "inforforest = RandomForestClassifier(n_estimators=15,criterion='entropy',max_samples=1000,random_state=0)\n",
    "inforforest.fit(X_train,Y_train)\n",
    "\n",
    "print(cross_val_score(ginicsfr, X_train, Y_train, cv=10))\n",
    "\n",
    "print(cross_val_score(infocsfr, X_train, Y_train, cv=10))\n",
    "\n",
    "print(cross_val_score(ginirforest, X_train, Y_train, cv=10))\n",
    "\n",
    "print(cross_val_score(inforforest, X_train, Y_train, cv=10))"
   ]
  },
  {
   "cell_type": "code",
   "execution_count": 20,
   "id": "70b3f14b-489f-4bda-b22b-79fb3bfe908c",
   "metadata": {},
   "outputs": [
    {
     "name": "stdout",
     "output_type": "stream",
     "text": [
      "(0.8554621848739495, 0.8375154257507199, 0.8463936811473707)\n",
      "(0.8554671135316296, 0.8399835458658989, 0.8476546284765463)\n",
      "(0.8491364117025026, 0.9909502262443439, 0.9145785876993167)\n",
      "(0.8490299823633157, 0.9901275195392842, 0.9141663501709076)\n"
     ]
    }
   ],
   "source": [
    "#1.3\n",
    "print(precision_recall_fscore_support(Y_test, ginicsfr.predict(X_test),average='binary',pos_label=0)[:3])\n",
    "\n",
    "print(precision_recall_fscore_support(Y_test, infocsfr.predict(X_test),average='binary',pos_label=0)[:3])\n",
    "\n",
    "print(precision_recall_fscore_support(Y_test, ginirforest.predict(X_test),average='binary',pos_label=0)[:3])\n",
    "\n",
    "print(precision_recall_fscore_support(Y_test, inforforest.predict(X_test),average='binary',pos_label=0)[:3])"
   ]
  },
  {
   "cell_type": "code",
   "execution_count": 21,
   "id": "8d248494-ce23-4230-9bea-b36f2f34e86b",
   "metadata": {},
   "outputs": [
    {
     "data": {
      "text/plain": [
       "'\\nBased on the outputs of precision_recall_fscore_support, we can see that precision for the \\ndecision trees and random forests are about equal, recall for the random forests are \\nsignificantly higher than the recall for decision trees, and therefore, the fscore is higher \\nfor the random forests.\\nIn the case of a bank using this model, they would likely prefer to have a higher precision, \\nas the bank would not want to turn away customers for being loan defaulters when they are not. \\nThat is losing potential business for the bank. Unfortunately, both models have about the same\\nprecision, so as the bank, I would just go with random forests since it has the higher f-score.\\n'"
      ]
     },
     "execution_count": 21,
     "metadata": {},
     "output_type": "execute_result"
    }
   ],
   "source": [
    "\"\"\"\n",
    "Based on the outputs of precision_recall_fscore_support, we can see that precision for the \n",
    "decision trees and random forests are about equal, recall for the random forests are \n",
    "significantly higher than the recall for decision trees, and therefore, the fscore is higher \n",
    "for the random forests.\n",
    "In the case of a bank using this model, they would likely prefer to have a higher precision, \n",
    "as the bank would not want to turn away customers for being loan defaulters when they are not. \n",
    "That is losing potential business for the bank. Unfortunately, both models have about the same\n",
    "precision, so as the bank, I would just go with random forests since it has the higher f-score.\n",
    "\"\"\""
   ]
  },
  {
   "cell_type": "code",
   "execution_count": null,
   "id": "3fdc9ca6-95cd-4802-98bb-e8cbd4c55b55",
   "metadata": {},
   "outputs": [],
   "source": []
  },
  {
   "cell_type": "code",
   "execution_count": null,
   "id": "35195f74",
   "metadata": {},
   "outputs": [],
   "source": []
  },
  {
   "cell_type": "code",
   "execution_count": null,
   "id": "2ea6762a",
   "metadata": {},
   "outputs": [],
   "source": []
  }
 ],
 "metadata": {
  "kernelspec": {
   "display_name": "Python 3 (ipykernel)",
   "language": "python",
   "name": "python3"
  },
  "language_info": {
   "codemirror_mode": {
    "name": "ipython",
    "version": 3
   },
   "file_extension": ".py",
   "mimetype": "text/x-python",
   "name": "python",
   "nbconvert_exporter": "python",
   "pygments_lexer": "ipython3",
   "version": "3.10.2"
  }
 },
 "nbformat": 4,
 "nbformat_minor": 5
}
