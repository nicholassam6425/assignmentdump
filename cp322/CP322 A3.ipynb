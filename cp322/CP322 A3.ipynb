{
 "cells": [
  {
   "cell_type": "raw",
   "id": "99115210-4583-47f7-ae3c-aeec4a3201f5",
   "metadata": {},
   "source": [
    "1.1.1) g(w7 + w8h(w1 + w3x1 + w5x2) + w9h(w2 + w4x1 + w6x2))\n",
    "= 1 / (1 + exp(c)-(w7 + cw8w1 + cw9w2 + x1(cw8w3 + cw9w4) + x2(cw8w5 + cw9w6))))\n",
    "1.1.2) Yes, if linear activation functions are used for all hidden layers, the output of the hidden layers are written as a linear combination of input features. \n",
    "Since the intermediate output servers as input for the final output layer, there is always an equivalent neural net that does not have any hidden layer.\n",
    "1.2.1) h = 1\n",
    "1.2.2) No because the positives determine the direction of the maximum margin decision boundary\n",
    "1.2.3) boundary length = sqrt(2)/4 - (sqrt(2)/4)h\n",
    "length = sqrt(2)/4 if h = 0,\n",
    "length = 0 if h = 1"
   ]
  },
  {
   "cell_type": "code",
   "execution_count": 2,
   "id": "80e61914-e09a-4551-b1e7-3cd954078ad5",
   "metadata": {},
   "outputs": [],
   "source": [
    "from tensorflow.keras.preprocessing.image import ImageDataGenerator\n",
    "from tensorflow.keras import datasets, layers, models\n",
    "from tensorflow.keras.callbacks import EarlyStopping\n",
    "import matplotlib.pyplot as plt\n",
    "import tensorflow"
   ]
  },
  {
   "cell_type": "code",
   "execution_count": 3,
   "id": "53d88686-6342-490c-9f79-0268878ab97f",
   "metadata": {},
   "outputs": [
    {
     "name": "stdout",
     "output_type": "stream",
     "text": [
      "Found 148 images belonging to 2 classes.\n",
      "Found 40 images belonging to 2 classes.\n",
      "<keras.preprocessing.image.DirectoryIterator object at 0x000001F06FC92050>\n"
     ]
    }
   ],
   "source": [
    "#2.1\n",
    "\n",
    "datagen = ImageDataGenerator(zoom_range=0, horizontal_flip=True, rescale=1.0/255.0, width_shift_range=0, height_shift_range=0)\n",
    "train_generator = datagen.flow_from_directory(\"xray_dataset_covid19/train\", target_size=(64,64), class_mode='binary',batch_size=32)\n",
    "test_generator = datagen.flow_from_directory(\"xray_dataset_covid19/test\", target_size=(64,64), class_mode='binary', batch_size=32)\n",
    "print(train_generator)"
   ]
  },
  {
   "cell_type": "code",
   "execution_count": 21,
   "id": "576e572a-0a92-4e48-94b6-078f5396bf93",
   "metadata": {},
   "outputs": [
    {
     "name": "stdout",
     "output_type": "stream",
     "text": [
      "Model: \"sequential_7\"\n",
      "_________________________________________________________________\n",
      " Layer (type)                Output Shape              Param #   \n",
      "=================================================================\n",
      " conv2d_22 (Conv2D)          (None, 62, 62, 32)        896       \n",
      "                                                                 \n",
      " max_pooling2d_15 (MaxPoolin  (None, 31, 31, 32)       0         \n",
      " g2D)                                                            \n",
      "                                                                 \n",
      " conv2d_23 (Conv2D)          (None, 29, 29, 64)        18496     \n",
      "                                                                 \n",
      " max_pooling2d_16 (MaxPoolin  (None, 14, 14, 64)       0         \n",
      " g2D)                                                            \n",
      "                                                                 \n",
      " conv2d_24 (Conv2D)          (None, 12, 12, 64)        36928     \n",
      "                                                                 \n",
      " flatten_6 (Flatten)         (None, 9216)              0         \n",
      "                                                                 \n",
      " dense_12 (Dense)            (None, 128)               1179776   \n",
      "                                                                 \n",
      " dense_13 (Dense)            (None, 1)                 129       \n",
      "                                                                 \n",
      "=================================================================\n",
      "Total params: 1,236,225\n",
      "Trainable params: 1,236,225\n",
      "Non-trainable params: 0\n",
      "_________________________________________________________________\n",
      "Epoch 1/20\n",
      "5/5 [==============================] - 8s 1s/step - loss: 0.7332 - accuracy: 0.4730 - val_loss: 0.6666 - val_accuracy: 0.5000\n",
      "Epoch 2/20\n",
      "5/5 [==============================] - 3s 691ms/step - loss: 0.6724 - accuracy: 0.5000 - val_loss: 0.6068 - val_accuracy: 0.5000\n",
      "Epoch 3/20\n",
      "5/5 [==============================] - 3s 663ms/step - loss: 0.6004 - accuracy: 0.5000 - val_loss: 0.4582 - val_accuracy: 0.9000\n",
      "Epoch 4/20\n",
      "5/5 [==============================] - 3s 681ms/step - loss: 0.4616 - accuracy: 0.7905 - val_loss: 0.2170 - val_accuracy: 0.9750\n",
      "Epoch 5/20\n",
      "5/5 [==============================] - 3s 741ms/step - loss: 0.3700 - accuracy: 0.8108 - val_loss: 0.1107 - val_accuracy: 1.0000\n",
      "Epoch 6/20\n",
      "5/5 [==============================] - 3s 728ms/step - loss: 0.2631 - accuracy: 0.8851 - val_loss: 0.0803 - val_accuracy: 0.9750\n",
      "Epoch 7/20\n",
      "5/5 [==============================] - 3s 719ms/step - loss: 0.1987 - accuracy: 0.9122 - val_loss: 0.0404 - val_accuracy: 0.9750\n",
      "Epoch 8/20\n",
      "5/5 [==============================] - 3s 713ms/step - loss: 0.1394 - accuracy: 0.9527 - val_loss: 0.0340 - val_accuracy: 1.0000\n",
      "Epoch 9/20\n",
      "5/5 [==============================] - 3s 671ms/step - loss: 0.1068 - accuracy: 0.9595 - val_loss: 0.0509 - val_accuracy: 0.9750\n",
      "Epoch 10/20\n",
      "5/5 [==============================] - 3s 689ms/step - loss: 0.0841 - accuracy: 0.9527 - val_loss: 0.0618 - val_accuracy: 0.9750\n",
      "Epoch 11/20\n",
      "5/5 [==============================] - 4s 713ms/step - loss: 0.0626 - accuracy: 0.9865 - val_loss: 0.0480 - val_accuracy: 0.9500\n",
      "Epoch 12/20\n",
      "5/5 [==============================] - 3s 698ms/step - loss: 0.0784 - accuracy: 0.9730 - val_loss: 0.0872 - val_accuracy: 0.9500\n",
      "Epoch 13/20\n",
      "5/5 [==============================] - 3s 691ms/step - loss: 0.0575 - accuracy: 0.9797 - val_loss: 0.0415 - val_accuracy: 1.0000\n",
      "Epoch 14/20\n",
      "5/5 [==============================] - 3s 714ms/step - loss: 0.0447 - accuracy: 0.9865 - val_loss: 0.0336 - val_accuracy: 0.9750\n",
      "Epoch 15/20\n",
      "5/5 [==============================] - 3s 674ms/step - loss: 0.0252 - accuracy: 0.9932 - val_loss: 0.0394 - val_accuracy: 1.0000\n",
      "Epoch 16/20\n",
      "5/5 [==============================] - 3s 715ms/step - loss: 0.0201 - accuracy: 1.0000 - val_loss: 0.0337 - val_accuracy: 0.9750\n",
      "Epoch 17/20\n",
      "5/5 [==============================] - 4s 728ms/step - loss: 0.0326 - accuracy: 0.9865 - val_loss: 0.0332 - val_accuracy: 1.0000\n",
      "Epoch 18/20\n",
      "5/5 [==============================] - 3s 697ms/step - loss: 0.0156 - accuracy: 0.9932 - val_loss: 0.1152 - val_accuracy: 0.9500\n",
      "Epoch 19/20\n",
      "5/5 [==============================] - 3s 723ms/step - loss: 0.0174 - accuracy: 1.0000 - val_loss: 0.0190 - val_accuracy: 1.0000\n",
      "Epoch 20/20\n",
      "5/5 [==============================] - 4s 719ms/step - loss: 0.0177 - accuracy: 0.9932 - val_loss: 0.0333 - val_accuracy: 0.9750\n"
     ]
    }
   ],
   "source": [
    "#2.2\n",
    "earlystop=EarlyStopping(patience=6)\n",
    "model = models.Sequential()\n",
    "model.add(layers.Conv2D(32, (3, 3), activation='relu', input_shape=(64,64,3)))\n",
    "model.add(layers.MaxPooling2D((2, 2)))\n",
    "model.add(layers.Conv2D(64, (3, 3), activation='relu'))\n",
    "model.add(layers.MaxPooling2D((2, 2)))\n",
    "model.add(layers.Conv2D(64, (3, 3), activation='relu'))\n",
    "model.add(layers.Flatten())\n",
    "model.add(layers.Dense(128, activation='relu'))\n",
    "model.add(layers.Dense(1))\n",
    "model.summary()\n",
    "model.compile(optimizer='adam', loss=tensorflow.keras.losses.BinaryCrossentropy(from_logits=True), metrics=['accuracy'])\n",
    "history = model.fit(train_generator, epochs=20, verbose=1, validation_data=test_generator)"
   ]
  },
  {
   "cell_type": "code",
   "execution_count": 22,
   "id": "1ecc1844-4f55-47c5-b3bd-5a3cdc8c2ca5",
   "metadata": {},
   "outputs": [
    {
     "data": {
      "text/plain": [
       "<matplotlib.legend.Legend at 0x21be1103b80>"
      ]
     },
     "execution_count": 22,
     "metadata": {},
     "output_type": "execute_result"
    },
    {
     "data": {
      "image/png": "[encoded data removed]",
      "text/plain": [
       "<Figure size 432x288 with 1 Axes>"
      ]
     },
     "metadata": {
      "needs_background": "light"
     },
     "output_type": "display_data"
    }
   ],
   "source": [
    "#2.3\n",
    "plt.plot(history.history['accuracy'], label='Train Accuracy')\n",
    "plt.plot(history.history['val_accuracy'], label = 'Test Accuracy')\n",
    "plt.xlabel('Epoch')\n",
    "plt.ylabel('Accuracy')\n",
    "plt.ylim([0.2, 1])\n",
    "plt.legend(loc='lower right')"
   ]
  },
  {
   "cell_type": "code",
   "execution_count": 23,
   "id": "33b6074e-9ded-4c08-9d17-0422476e0fa0",
   "metadata": {},
   "outputs": [
    {
     "data": {
      "text/plain": [
       "<matplotlib.legend.Legend at 0x21be178aa70>"
      ]
     },
     "execution_count": 23,
     "metadata": {},
     "output_type": "execute_result"
    },
    {
     "data": {
      "image/png": "[encoded data removed]",
      "text/plain": [
       "<Figure size 432x288 with 1 Axes>"
      ]
     },
     "metadata": {
      "needs_background": "light"
     },
     "output_type": "display_data"
    }
   ],
   "source": [
    "plt.plot(history.history['loss'], label='Train Loss')\n",
    "plt.plot(history.history['val_loss'], label = 'Test Loss')\n",
    "plt.xlabel('Epoch')\n",
    "plt.ylabel('Loss')\n",
    "plt.ylim([0, 1.5])\n",
    "plt.legend(loc='upper right')"
   ]
  },
  {
   "cell_type": "code",
   "execution_count": null,
   "id": "aa9af6c6-70a3-434b-98c9-3a693b07014d",
   "metadata": {},
   "outputs": [],
   "source": []
  }
 ],
 "metadata": {
  "kernelspec": {
   "display_name": "Python 3 (ipykernel)",
   "language": "python",
   "name": "python3"
  },
  "language_info": {
   "codemirror_mode": {
    "name": "ipython",
    "version": 3
   },
   "file_extension": ".py",
   "mimetype": "text/x-python",
   "name": "python",
   "nbconvert_exporter": "python",
   "pygments_lexer": "ipython3",
   "version": "3.10.2"
  }
 },
 "nbformat": 4,
 "nbformat_minor": 5
}
